{
  "cells": [
    {
      "cell_type": "markdown",
      "metadata": {
        "id": "sRUjQX1PQfmX"
      },
      "source": [
        "<Body>   \n",
        "<img src=\"data:image/png;base64,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\" width=\"200\" align=\"right\" >   \n",
        "<h1> <b>Machine Learning 2022/2023 (2<sup>nd</sup> semester) </b> </h1>\n",
        "<p>Master in Electrical and Computer Engineering </p>\n",
        "<p>Department of Electrical and Computer Engineering</p>\n",
        "</Body>  \n",
        "\n",
        "**A. Pedro Aguiar** (pedro.aguiar@fe.up.pt),\n",
        "**Aníbal Matos** (anibal@fe.up.pt),\n",
        "**Daniel G. Costa** (danielgcosta@fe.up.pt),\n",
        "**Rui Gonçalves** (rjpg@fe.up.pt)\n",
        "\n",
        "FEUP, April 2023\n",
        "\n",
        "---\n"
      ]
    },
    {
      "cell_type": "markdown",
      "metadata": {
        "id": "QxUSBzNsLUNv"
      },
      "source": [
        "# **Notebook #06: Classification (part 1)**\n"
      ]
    },
    {
      "cell_type": "markdown",
      "source": [
        "# Bayesian Classification\n",
        "\n",
        "## Bayes' theorem\n",
        "\n",
        "It is used to calculate \"conditional probabilities\", which is very useful when the probability of a given event to occur is afected by previous events. This way, we have the general case:\n",
        "\n",
        "$$ P(y|x) = \\frac{P(x|y)P(y)}{P(x)} $$\n",
        "\n",
        "where $P(y|x)$ is the probability of event $y$ given event $x$ has occurred (posterior probability), $P(x|y)$ is the probability of event $x$ given event $y$ has occurred (likelihood function), $P(y)$ as the prior probability of event $y$ (what we already know about event $y$), and $P(x)$ as the prior probability of event $x$ (evidence function which acts as a normalization constant).\n",
        "\n",
        "## Bayesian classification rule\n",
        "Given a set of $\\color{blue} M$ classes $\\color{blue}\\omega_i$ (the classes for the classification process), for $i=1,\\ldots,M$, and the posterior probabilities $\\color{blue}{ P(\\omega_i|x)}$:\n",
        "\n",
        "$$\\quad\\text{Assign } x \\text{ to } \\omega_i =\n",
        "\\text{arg}\\max_{\\omega_j} P(\\omega_j|x), \\quad j=1,\\ldots,M $$\n",
        "\n",
        "Note that from Bayes' theorem:\n",
        "\n",
        "$$ P(\\omega_j|x) = \\frac{p(x|\\omega_j)P(\\omega_j)}{p(x)},\n",
        "\\quad j=1,\\ldots,M$$\n",
        "\n",
        "Then, the Bayesian classification rule becomes: ($p(x)$ can be ignored because does not depend on $\\omega_j$)\n",
        "\n",
        "$$\\quad\\text{Assign } x \\text{ to } \\omega_i =\n",
        "\\text{arg}\\max_{\\omega_j} p(x|\\omega_j)P(\\omega_j), \\quad j=1,\\ldots,M $$\n",
        "\n",
        "## Misclassification error \n",
        "Let $\\mathcal{R}_i$ be the region where we decide for class $\\omega_i$ $(i=1,\\ldots,M)$. The probability of making a classification error is\n",
        "\n",
        "$$ P_e = \\sum_{i=1}^M P(\\omega_i)\\int_{U\\setminus \\mathcal{R}_i}p(x|\\omega_i)dx$$\n",
        "\n",
        "For the 2-class problem, this probability is \n",
        "$$ P_e = P(\\omega_2)\\int_{\\mathcal{R}_1}p(x|\\omega_2)dx +\n",
        " P(\\omega_1)\\int_{\\mathcal{R}_2}p(x|\\omega_1)dx $$\n",
        "\n",
        "## Minimizing the expected risk\n",
        "In some cases, misclassification errors might not be equally significant. For such cases we can consider relative weights on the errors according to their significance and define an overall risk (or loss). The risk associated with class $\\omega_k$ is defined as\n",
        "$$ r_k = \\sum_{i=1}^M \\lambda_{ki}\\sum_{\\mathcal{R}_i}p(x|\\omega_k)dx$$\n",
        "where $\\lambda_{ki}$ is the relative weight associated with committing an error by assigning a pattern from class $\\omega_k$ to class $\\omega_i$. Note that $\\lambda_{kk}=0$ (since it corresponds to correct decisions). \n",
        "The average risk is then\n",
        "$$ r = \\sum_{k=1}^M P(\\omega_k)r_k = \n",
        "\\sum_{i=1}^M\\int_{\\mathcal{R}_i}\\left(\\sum_{k=1}^M\\lambda_{ki}P(\\omega_k)p(x|\\omega_k)\\right)dx$$\n",
        "The average risk is minimized if the space is partitioned by selecting $\\mathcal{R}_i$ such the integrals in the above expression are minimized. Such is achieved by adopting the rule\n",
        "\n",
        "$$\\text{Assign }x\\text{ to }\\omega_i =\\text{arg }\\min_{\\omega_j}\n",
        "\\sum_{k=1}^M \\lambda_{kj}P(\\omega_k)p(x|\\omega_k),\\quad j=1,\\ldots,M$$\n",
        "\n",
        "For the 2-class case, this reduces to\n",
        "\n",
        "$$\\text{Assign } x \\text{ to } \\omega_1 \\text{ if: }\n",
        "\\lambda_{21}P(\\omega_2)p(x|\\omega_2) <\n",
        "\\lambda_{12}P(\\omega_1)p(x|\\omega_1)$$ \n",
        "\n",
        "$$\\text{Assign } x \\text{ to } \\omega_2 \\text{ if: }\n",
        "\\lambda_{12}P(\\omega_1)p(x|\\omega_1) <\n",
        "\\lambda_{21}P(\\omega_2)p(x|\\omega_2)$$ \n",
        "\n",
        "## Minimum distance classifier\n",
        "Under the following assumptions:\n",
        "\n",
        "i) Data follows a Gaussian distribution in each one of the classes;\n",
        "\n",
        "ii) All classes are equiprobable; and\n",
        "\n",
        "iii) Covariance is equal for all classes ($\\Sigma$);\n",
        "\n",
        "\n",
        "the Bayesian classification rule is equivalent to\n",
        "\n",
        "$$\\text{Assign }x\\text{ to class }\\omega_i: i=\\text{arg }\\min_{j} ||x-\\mu_j||_{\\Sigma^{-1}}^2,\\quad j=1,\\ldots,M$$\n",
        "\n",
        "where $||z||_{\\Sigma^{-1}} = \\sqrt{z^T\\Sigma^{-1}z}$ is the Mahalonis distance.\n",
        "\n",
        "This means that classifying $x$ consists in selecting the class whose mean minimizes the **Mahalanobis distance** to $x$. When the (common) covariance has the form $\\Sigma=\\sigma^2I$ (all features share the same variance), this is equivalent to minimize the Euclidean distance.\n"
      ],
      "metadata": {
        "id": "tLGbf58T62jh"
      }
    },
    {
      "cell_type": "markdown",
      "metadata": {
        "id": "Pw58w58kuZ9r"
      },
      "source": [
        "### **Activity 1**\n",
        "\n",
        "Consider a two-dimensional class problem with two classes ($\\omega_1$ and $\\omega_2$), characterized by Gaussian distributions with means $\\mu_1=\\left(1,0\\right)^\\top$ and $\\mu_2=\\left(2,1\\right)^\\top$, and covariances \n",
        "$\\Sigma_1 = \\Sigma_2 = \\left[\\begin{array}{cc} 1 & -1 \\\\ -1 & 2\\end{array}\\right]$, respectively. Assume the classes are equiprobable. \n",
        "\n",
        "**1.1** Obtain a dataset consisting from $100$ points from each class. Plot the data.\n"
      ]
    },
    {
      "cell_type": "code",
      "source": [
        "# Activity 1.1\n",
        "import numpy as np \n",
        "import matplotlib.pyplot as plt\n",
        "\n",
        "# multivariate gaussian distribution\n",
        "def gaussian(x, mean, cov):\n",
        "    n = mean.size\n",
        "    d = x-mean\n",
        "    np.reshape(d,[n,1])\n",
        "    exp_term = -0.5 * np.transpose(d) @ np.linalg.inv(cov) @ d\n",
        "    f_term = 1.0/(np.sqrt( (2*np.pi)**n * np.linalg.det(cov)))\n",
        "    pdf = f_term * np.exp(exp_term)\n",
        "    return pdf\n",
        "\n",
        "# to make sure we have always the same data\n",
        "np.random.seed(10)\n",
        "\n",
        "# Distribution for class 1\n",
        "mu_1 = np.array([1,0])\n",
        "sigma_1 = np.array([[1,-1],[-1,2]])\n",
        "\n",
        "# Distribution for class 2\n",
        "mu_2 = np.array([2,1])\n",
        "sigma_2 = np.array([[1,-1],[-1,2]])\n",
        "\n",
        "# Sample from class distributions\n",
        "size_1 = 100\n",
        "size_2 = 100\n",
        "X_1 = np.random.multivariate_normal(mu_1, sigma_1, size=size_1)\n",
        "X_2 = np.random.multivariate_normal(mu_2, sigma_2, size=size_2)\n",
        "\n",
        "# plot data points\n",
        "plt.title('Sample data points')\n",
        "plt.xlabel('x_1')\n",
        "plt.ylabel('x_2')\n",
        "# Class 1 (o)\n",
        "plt.scatter(X_1[:,0], X_1[:,1], marker='o')\n",
        "# Class 2 (x)\n",
        "plt.scatter(X_2[:,0], X_2[:,1], marker='x')\n",
        "\n",
        "#A diffent plotting scope\n",
        "#plt.xlim([-4, 4])\n",
        "#plt.xlim([-4, 4])\n",
        "\n",
        "plt.plot()\n",
        "plt.grid()\n",
        "plt.show()"
      ],
      "metadata": {
        "colab": {
          "base_uri": "https://localhost:8080/",
          "height": 472
        },
        "id": "9V-mNiCwT6J2",
        "outputId": "d88779f7-c57e-405f-ce85-462925341393"
      },
      "execution_count": null,
      "outputs": [
        {
          "output_type": "display_data",
          "data": {
            "text/plain": [
              "<Figure size 640x480 with 1 Axes>"
            ],
            "image/png": "[encoded data removed]"
          },
          "metadata": {}
        }
      ]
    },
    {
      "cell_type": "markdown",
      "source": [
        "**1.2** Assign each point of the dataset to either $\\omega_1$ or $\\omega_2$, according to the Bayes decision rule. Estimate the classification probability error and plot the classification regions and the points.\n"
      ],
      "metadata": {
        "id": "SO6A883cb6Lo"
      }
    },
    {
      "cell_type": "code",
      "source": [
        "# Activity 1.2 (to be completed)\n",
        "\n",
        "size_total = size_1+size_2\n",
        "label_1 =   np.ones(size_1)\n",
        "label_2 = 2*np.ones(size_2)\n",
        "\n",
        "# put all data together\n",
        "X = np.concatenate([X_1, X_2], axis=0)\n",
        "label = np.concatenate([label_1, label_2], axis=0)\n",
        "\n",
        "# A priori probabilities\n",
        "# to be completed\n",
        "#P_class1 = ...\n",
        "#P_class2 = ...\n",
        "\n",
        "# classify each data point (Bayesian classification)\n",
        "classification = []\n",
        "for i in range(size_total):\n",
        "  # to be completed... (compute conditional probabilities)\n",
        "  #prob_1 = \n",
        "  #prob_2 = \n",
        "  # to be completed (classify)\n",
        "  #if ... :\n",
        "  #  classification.append(1)\n",
        "  #else :\n",
        "  #  classification.append(2)\n",
        "\n",
        "# obtain classification probability error\n",
        "Pe=0\n",
        "for i in range(size_total) :\n",
        "  # to be completed\n",
        "  #if ... :\n",
        "  #  Pe = Pe + 1\n",
        "Pe = Pe/size_total\n",
        "\n",
        "print('Classification probability error:', Pe)\n",
        "\n",
        "# plot classification regions and points\n",
        "\n",
        "# generate a large number of points\n",
        "x_min, x_max = X[:,0].min() - .5, X[:,0].max() + .5\n",
        "y_min, y_max = X[:,1].min() - .5, X[:,1].max() + .5\n",
        "xx, yy = np.meshgrid(np.arange(x_min, x_max, .02), np.arange(y_min, y_max, .02))\n",
        "X_plot = np.c_[xx.ravel(), yy.ravel()]\n",
        "\n",
        "# classify all points from X_plot data\n",
        "prediction = []\n",
        "for i in range(X_plot.shape[0]):\n",
        "  # to be completed... (compute conditional probabilities)\n",
        "  #prob_1 = \n",
        "  #prob_2 = \n",
        "  # to be completed (classify)\n",
        "  #if ... :\n",
        "  #  prediction.append(1)\n",
        "  #else :\n",
        "  #  prediction.append(2)\n",
        "\n",
        "prediction = np.array(prediction)\n",
        "prediction = prediction.reshape(xx.shape)\n",
        "\n",
        "plt.figure(1, figsize=(5, 4))\n",
        "plt.pcolormesh(xx, yy, prediction, cmap=plt.cm.Paired)\n",
        "\n",
        "plt.scatter(X[:, 0], X[:, 1], c=label, edgecolors='k', cmap=plt.cm.Paired)\n",
        "plt.xlabel('x_1')\n",
        "plt.ylabel('x_2')\n",
        "    \n",
        "plt.xlim(xx.min(), xx.max())\n",
        "plt.ylim(yy.min(), yy.max())\n",
        "plt.xticks(())\n",
        "plt.yticks(())\n",
        "    \n",
        "plt.show()"
      ],
      "metadata": {
        "id": "sUFJ_334OmHF"
      },
      "execution_count": null,
      "outputs": []
    },
    {
      "cell_type": "markdown",
      "source": [
        "**1.3** Consider the loss matrix $L=\\left[\\begin{array}{cc} 0 & 1 \\\\ 0.05 & 0\\end{array}\\right]$. Assign each point of the dataset to $\\omega_1$ or $\\omega_2$ according to the average risk minimization rule. Plot the points with different colors, depending on the class they are assigned to. Estimate the average risk for this loss matrix.\n"
      ],
      "metadata": {
        "id": "iEdE5fH-ga-5"
      }
    },
    {
      "cell_type": "code",
      "source": [
        "# Activity 1.3 (to be completed)\n",
        "\n",
        "# loss matrix entries\n",
        "L12 = 1\n",
        "L21 = 0.05\n",
        "\n",
        "# classifify each data point (average risk minimization)\n",
        "class_risk = []\n",
        "for i in range(size_total):\n",
        "  # to be completed\n",
        "  #prob_1 = ...\n",
        "  #prob_2 = ...\n",
        "  #if ... :\n",
        "  #  class_risk.append(1)\n",
        "  #else :\n",
        "  #  class_risk.append(2)\n",
        "\n",
        "class_risk = np.array(class_risk)\n",
        "\n",
        "plt.figure()\n",
        "plt.scatter(X[np.where(class_risk==1),0], X[np.where(class_risk==1),1], marker='o')\n",
        "plt.scatter(X[np.where(class_risk==2),0], X[np.where(class_risk==2),1], marker='x')\n",
        "plt.plot()\n",
        "plt.show()\n",
        "\n",
        "# determine average risk\n",
        "Ar = 0\n",
        "for i in range(size_total) :\n",
        "  if class_risk[i]!=label[i] :\n",
        "    # to be completede\n",
        "    #if ... : \n",
        "    #  Ar = Ar + L12\n",
        "    #else :\n",
        "    #  Ar = Ar + L21\n",
        "\n",
        "Ar = Ar/size_total\n",
        "print('Average risk:', Ar)"
      ],
      "metadata": {
        "id": "E7YmEpGARTDr"
      },
      "execution_count": null,
      "outputs": []
    },
    {
      "cell_type": "markdown",
      "source": [
        "**1.4** Using the same data, verify that in this case the Bayesian classification is in fact equivalent to the minimization of the Mahalanobis distance."
      ],
      "metadata": {
        "id": "DREgVIDXEl7P"
      }
    },
    {
      "cell_type": "code",
      "source": [
        "# Activity 1.4 (to be completed)\n",
        "\n",
        "# classify each data point (Mahalanobis distance)\n",
        "Sigma_inv = np.linalg.inv(sigma_1)\n",
        "classification_dM = []\n",
        "for i in range(size_total):\n",
        "  diff1 = X[i]-mu_1\n",
        "  diff1 = np.transpose([diff1])\n",
        "  diff2 = X[i]-mu_2\n",
        "  diff2 = np.transpose([diff2])\n",
        "  # to be completed\n",
        "  #dM1_squared = ...\n",
        "  #dM2_squared = ...\n",
        "  #if ... :\n",
        "  #  classification_dM.append(1)\n",
        "  #else :\n",
        "  #  classification_dM.append(2)\n",
        "\n",
        "mclass = 0\n",
        "if i in range(size_total) :\n",
        "  if classification[i] != classification_dM[i] :\n",
        "      print(i,' was not assigned to the same class')\n",
        "      mclass += 1\n",
        "\n",
        "if mclass == 0 : print('all points were classified in the same way')\n"
      ],
      "metadata": {
        "id": "rZuni5UPPkw9"
      },
      "execution_count": null,
      "outputs": []
    },
    {
      "cell_type": "markdown",
      "source": [
        "# Naive Bayes classifier\n",
        "\n",
        "The basic assumption now is that features (components of the feature vector) are statistically independent. This means  the joint distribution is the product of the marginal distributions of the features, that is\n",
        "\n",
        "$$ p(x|\\omega_i ) = \\prod_{k=1}^l p(x_k|\\omega_i), \\quad i=1,\\ldots,M$$\n",
        "\n",
        "where we assume there are $l$ features.\n",
        "\n",
        "The classification rule is then\n",
        "\n",
        "$$\\quad\\text{Assign } x \\text{ to } \\omega_i =\n",
        "\\text{arg}\\max_{\\omega_j} P(\\omega_j)\\prod_{k=1}^l p(x_k|\\omega_j), \\quad j=1,\\ldots,M $$"
      ],
      "metadata": {
        "id": "OZXzESo3xmxu"
      }
    },
    {
      "cell_type": "markdown",
      "metadata": {
        "id": "9wDmhWxMxi0C"
      },
      "source": [
        "## **Activity 2**\n",
        "\n",
        "Consider a set of data with two features ($X_1$ and $X_2$) from a representative data set of points of two classes ($\\omega_1$ and $\\omega_2$). \n",
        "\n",
        "\n",
        "\n",
        "\n",
        "\n",
        "\n"
      ]
    },
    {
      "cell_type": "code",
      "source": [
        "!wget -O dataset.csv.zip https://www.dropbox.com/s/evpwqery7uleqw1/data-set.csv.zip?dl=0 --quiet\n",
        "!unzip dataset.csv.zip -d. \n"
      ],
      "metadata": {
        "id": "7x4AL5I31-bK",
        "colab": {
          "base_uri": "https://localhost:8080/"
        },
        "outputId": "fce7716b-03ce-4992-d721-968e7465f1ba"
      },
      "execution_count": null,
      "outputs": [
        {
          "output_type": "stream",
          "name": "stdout",
          "text": [
            "Archive:  dataset.csv.zip\n",
            "  inflating: ./data-set.csv          \n"
          ]
        }
      ]
    },
    {
      "cell_type": "code",
      "source": [
        "import numpy as np\n",
        "import matplotlib.pyplot as plt\n",
        "import pandas as pd\n",
        "\n",
        "# multivariate gaussian distribution\n",
        "def gaussian(x, mean, cov):\n",
        "    n = mean.size\n",
        "    d = x-mean\n",
        "    np.reshape(d,[n,1])\n",
        "    exp_term = -0.5 * np.transpose(d) @ np.linalg.inv(cov) @ d\n",
        "    f_term = 1.0/(np.sqrt( (2*np.pi)**n * np.linalg.det(cov)))\n",
        "    pdf = f_term * np.exp(exp_term)\n",
        "    return pdf\n",
        "\n",
        "# 1d normal distribution\n",
        "def gaussian1d(x, mean, var):\n",
        "    pdf = 1/np.sqrt(2*np.pi*var)*np.exp(-0.5*(x-mean)**2/var)\n",
        "    return pdf\n",
        "\n",
        "# read data from file\n",
        "df = pd.read_csv('data-set.csv')\n",
        "npoints = df.values.shape[0]"
      ],
      "metadata": {
        "id": "Ep3Z7kLh7iXC"
      },
      "execution_count": null,
      "outputs": []
    },
    {
      "cell_type": "markdown",
      "source": [
        "**2.1** Plot the data from the data set. Estimate the mean and covariance of the distributions within each class. Also estimate the probability of occurrence of each class.\n",
        "\n",
        "Note that \n",
        "$$\n",
        "\\hat\\mu = \\frac{1}{N}\\sum_{n=1}^N x_n, \\quad \n",
        "\\hat\\Sigma = \\frac{1}{N-1}\\sum_{n=1}^N (x_n-\\hat\\mu)(x_n-\\hat\\mu)^\\top\n",
        "$$\n"
      ],
      "metadata": {
        "id": "6W-405gATVi4"
      }
    },
    {
      "cell_type": "code",
      "source": [
        "# Activity 2.1 (to be completed)\n",
        "\n",
        "# plot data\n",
        "classData = df.values[:,2]\n",
        "plt.figure()\n",
        "plt.scatter(df.values[np.where(classData==1),0], df.values[np.where(classData==1),1], marker='o')\n",
        "plt.scatter(df.values[np.where(classData==2),0], df.values[np.where(classData==2),1], marker='x')\n",
        "plt.plot()\n",
        "plt.show()\n",
        "\n",
        "\n",
        "# estimate mean and probability of each class\n",
        "sum_X_class1 = np.array([0,0])\n",
        "sum_X_class2 = np.array([0,0])\n",
        "num_class1 = 0\n",
        "num_class2 = 0\n",
        "\n",
        "# cycle through all points \n",
        "for i in range(npoints) :\n",
        "  # to be completed \n",
        "  if df.values[i,2] == 1 :\n",
        "    #sum_X_class1 = ...\n",
        "    #num_class1 = ...\n",
        "  else :\n",
        "    #sum_X_class2 = ...\n",
        "    #num_class2 = ...\n",
        "\n",
        "# compute probability\n",
        "# to be completed\n",
        "#P_class1 =  ...\n",
        "#P_class2 =  ...\n",
        "\n",
        "# compute mean\n",
        "# to be completed\n",
        "#mu_class1 = ...\n",
        "#mu_class2 = ...\n",
        "\n",
        "# display probablities and means\n",
        "print('P1:',P_class1)\n",
        "print('P2:',P_class2)\n",
        "print('mu1:',mu_class1)\n",
        "print('mu2:',mu_class2)\n",
        "\n",
        "# estimate covariance of each class\n",
        "sum_XXT_class1 = np.array([[0,0],[0,0]])\n",
        "sum_XXT_class2 = np.array([[0,0],[0,0]])\n",
        "for i in range(npoints) :\n",
        "  # to be completed\n",
        "  if df.values[i,2] == 1 :\n",
        "    #sum_XXT_class1 = ...\n",
        "  else :\n",
        "    #sum_XXT_class2 = ...\n",
        "\n",
        "# compute convariance\n",
        "# to be completed\n",
        "#sigma_class1 = ...\n",
        "#sigma_class2 = ...\n",
        "\n",
        "print('Sigma1:',sigma_class1)\n",
        "print('Sigma2:',sigma_class2)"
      ],
      "metadata": {
        "id": "QrszUZeMT15X"
      },
      "execution_count": null,
      "outputs": []
    },
    {
      "cell_type": "markdown",
      "source": [
        "**2.2** Consider the set of points $\\{(x_1,x_2): x_1,x_2\\in\\{-4,-3,-2,-1,0,1,2,3,4\\}\\}$ and classify each of them according to the naive Bayesian rule."
      ],
      "metadata": {
        "id": "vVYvobjB2Jzr"
      }
    },
    {
      "cell_type": "code",
      "source": [
        "# Activity 2.2 (to be completed)\n",
        "\n",
        "# define grid of points to be classified \n",
        "x1, x2 = np.meshgrid(np.arange(-4,4), np.arange(-4, 4))\n",
        "X_plot = np.c_[x1.ravel(), x2.ravel()]\n",
        "\n",
        "sigma1_class1 = sigma_class1[0,0]\n",
        "sigma2_class1 = sigma_class1[1,1]\n",
        "\n",
        "sigma1_class2 = sigma_class2[0,0]\n",
        "sigma2_class2 = sigma_class2[1,1]\n",
        "\n",
        "# Naive Bayesian classifier\n",
        "prediction_nb = []\n",
        "for i in range(X_plot.shape[0]):\n",
        "  # to be completed\n",
        "  #prob_1 = ...\n",
        "  #prob_2 = ...\n",
        "  #if ... :\n",
        "  #  prediction_nb.append(1)\n",
        "  #else :\n",
        "  #  prediction_nb.append(2)\n",
        "\n",
        "prediction_nb = np.array(prediction_nb)\n",
        "\n",
        "# plot results\n",
        "plt.figure()\n",
        "plt.scatter(X_plot[np.where(prediction_nb==1),0], X_plot[np.where(prediction_nb==1),1], marker='o')\n",
        "plt.scatter(X_plot[np.where(prediction_nb==2),0], X_plot[np.where(prediction_nb==2),1], marker='x')\n",
        "plt.xlabel('x_1')\n",
        "plt.ylabel('x_2')\n",
        "plt.xlim(x1.min()-0.5, x1.max()+0.5)\n",
        "plt.ylim(x2.min()-0.5, x2.max()+0.5)\n",
        "plt.xticks(())\n",
        "plt.yticks(())\n",
        "plt.show()"
      ],
      "metadata": {
        "id": "DDzxhewkQDmo"
      },
      "execution_count": null,
      "outputs": []
    },
    {
      "cell_type": "markdown",
      "source": [
        "**2.3** Repeat the classification process for the above data, but now using the Bayesian classifier rule."
      ],
      "metadata": {
        "id": "5yKHkWs-9Ps6"
      }
    },
    {
      "cell_type": "code",
      "source": [
        "# Activity 2.3 (to be completed)\n",
        "\n",
        "# Bayesian classifier\n",
        "prediction = []\n",
        "for i in range(X_plot.shape[0]):\n",
        "  # to be completed\n",
        "  #prob_1 = ...\n",
        "  #prob_2 = ...\n",
        "  #if ... :\n",
        "  #  prediction.append(1)\n",
        "  #else :\n",
        "  #  prediction.append(2)\n",
        "\n",
        "prediction = np.array(prediction)\n",
        "\n",
        "plt.figure()\n",
        "plt.scatter(X_plot[np.where(prediction==1),0], X_plot[np.where(prediction==1),1], marker='o')\n",
        "plt.scatter(X_plot[np.where(prediction==2),0], X_plot[np.where(prediction==2),1], marker='x')\n",
        "plt.xlabel('x_1')\n",
        "plt.ylabel('x_2')\n",
        "plt.xlim(x1.min()-0.5, x1.max()+0.5)\n",
        "plt.ylim(x2.min()-0.5, x2.max()+0.5)\n",
        "plt.xticks(())\n",
        "plt.yticks(())\n",
        "plt.show()"
      ],
      "metadata": {
        "id": "YzeHGn5TQUv_"
      },
      "execution_count": null,
      "outputs": []
    }
  ],
  "metadata": {
    "colab": {
      "provenance": []
    },
    "kernelspec": {
      "display_name": "Python 3",
      "language": "python",
      "name": "python3"
    },
    "language_info": {
      "codemirror_mode": {
        "name": "ipython",
        "version": 3
      },
      "file_extension": ".py",
      "mimetype": "text/x-python",
      "name": "python",
      "nbconvert_exporter": "python",
      "pygments_lexer": "ipython3",
      "version": "3.8.2"
    }
  },
  "nbformat": 4,
  "nbformat_minor": 0
}