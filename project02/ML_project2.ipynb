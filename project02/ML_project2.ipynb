{
  "cells": [
    {
      "attachments": {},
      "cell_type": "markdown",
      "metadata": {
        "id": "kSqK8eQhRFsK"
      },
      "source": [
        "<Body>   \n",
        "<img src=\"data:image/png;base64,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\" width=\"200\" align=\"right\" >   \n",
        "<h1> <b>Machine Learning 2022/2023 (2<sup>nd</sup> semester) </b> </h1>\n",
        "<p>Master in Electrical and Computer Engineering </p>\n",
        "<p>Department of Electrical and Computer Engineering</p>\n",
        "</Body>  \n",
        "\n",
        "**A. Pedro Aguiar** (pedro.aguiar@fe.up.pt),\n",
        "**Aníbal Matos** (anibal@fe.up.pt),\n",
        "**Daniel Costa** (danielgcosta@fe.up.pt),\n",
        "**Rui Gonçalves** (rjpg@fe.up.pt)\n",
        "\n",
        "FEUP, Feb. 2023\n",
        "\n",
        "---\n"
      ]
    },
    {
      "attachments": {},
      "cell_type": "markdown",
      "metadata": {
        "id": "PKj6T5XQYLaG"
      },
      "source": [
        "# **Project #02**\n",
        "\n",
        "**Note:** This work is to be done in group of **2** elements. Use this notebook to answer all the questions. At the end of the work, you should **upload** the **notebook** and a **pdf file** with a printout of the notebook with all the results in the **moodle** platform.\n",
        "To generate the pdf file we have first to covert the notebook to html using the command `!jupyter nbconvert --to html \"ML_project2.ipynb\"`, then open the html file and printout to PDF.\n",
        "\n",
        "**Deadlines:** Present you work (and answer questions) on the week of **May 22** in your corresponding practical class. Upload the files until 23:59 of **June 2, 2023**.\n",
        "\n",
        "\n",
        "---\n",
        "\n"
      ]
    },
    {
      "attachments": {},
      "cell_type": "markdown",
      "metadata": {
        "id": "6KAQ-L89YLaN"
      },
      "source": [
        "# **Identification**\n",
        "\n",
        "* **Group:** ProjectA05C\n",
        "* **Name:** Carlos Thadeu Aguiar de Faria\n",
        "* **Student Number:** 202202472"
      ]
    },
    {
      "attachments": {},
      "cell_type": "markdown",
      "metadata": {
        "id": "NExKwtrzBQPM"
      },
      "source": [
        "**Initial setup:** To download the data files, run the next cell."
      ]
    },
    {
      "cell_type": "code",
      "execution_count": 1,
      "metadata": {
        "colab": {
          "base_uri": "https://localhost:8080/"
        },
        "id": "FRAhmiI0T7ea",
        "outputId": "428fe5e9-c4b2-4395-a960-7f049c5ce55b"
      },
      "outputs": [
        {
          "name": "stdout",
          "output_type": "stream",
          "text": [
            "Archive:  data-setMLproject2.zip\n",
            "  inflating: ./data_test.csv         \n",
            "  inflating: ./__MACOSX/._data_test.csv  \n",
            "  inflating: ./data_test2obs.csv     \n",
            "  inflating: ./__MACOSX/._data_test2obs.csv  \n",
            "  inflating: ./data_train.csv        \n",
            "  inflating: ./__MACOSX/._data_train.csv  \n"
          ]
        }
      ],
      "source": [
        "!wget -O data-setMLproject2.zip https://www.dropbox.com/s/hnyhgqlj5lcqyqr/data-setMLproject2.zip?dl=0 --quiet\n",
        "!unzip data-setMLproject2.zip -d. "
      ]
    },
    {
      "attachments": {},
      "cell_type": "markdown",
      "metadata": {
        "id": "DguL9DU2Y-v7"
      },
      "source": [
        "# **Main goal**\n",
        "\n",
        "Consider the following scenario: A mobile robot aims to build a map of the environment with **semantics**, meaning that the robot should be capable to classify the objects nearby. The robot is travelling around and carries on-board a 2D LIDAR measurement device that obtains range measurements at each sample time $t=0, 0.1, 0.2, \\ldots$ The following cell shows an example of the type of data:\n"
      ]
    },
    {
      "cell_type": "code",
      "execution_count": 1,
      "metadata": {
        "colab": {
          "base_uri": "https://localhost:8080/",
          "height": 297
        },
        "id": "idxY5ypca4p-",
        "outputId": "0bbc074a-d27e-4b36-f8f2-bcd7ae78bed5"
      },
      "outputs": [
        {
          "data": {
            "text/html": [
              "<div>\n",
              "<style scoped>\n",
              "    .dataframe tbody tr th:only-of-type {\n",
              "        vertical-align: middle;\n",
              "    }\n",
              "\n",
              "    .dataframe tbody tr th {\n",
              "        vertical-align: top;\n",
              "    }\n",
              "\n",
              "    .dataframe thead th {\n",
              "        text-align: right;\n",
              "    }\n",
              "</style>\n",
              "<table border=\"1\" class=\"dataframe\">\n",
              "  <thead>\n",
              "    <tr style=\"text-align: right;\">\n",
              "      <th></th>\n",
              "      <th>px</th>\n",
              "      <th>py</th>\n",
              "      <th>angle -179</th>\n",
              "      <th>angle -178</th>\n",
              "      <th>angle -177</th>\n",
              "      <th>angle -176</th>\n",
              "      <th>angle -175</th>\n",
              "      <th>angle -174</th>\n",
              "      <th>angle -173</th>\n",
              "      <th>angle -172</th>\n",
              "      <th>...</th>\n",
              "      <th>angle 171</th>\n",
              "      <th>angle 172</th>\n",
              "      <th>angle 173</th>\n",
              "      <th>angle 174</th>\n",
              "      <th>angle 175</th>\n",
              "      <th>angle 176</th>\n",
              "      <th>angle 177</th>\n",
              "      <th>angle 178</th>\n",
              "      <th>angle 179</th>\n",
              "      <th>angle 180</th>\n",
              "    </tr>\n",
              "  </thead>\n",
              "  <tbody>\n",
              "    <tr>\n",
              "      <th>0</th>\n",
              "      <td>-4.00</td>\n",
              "      <td>-2.0</td>\n",
              "      <td>0.0</td>\n",
              "      <td>0.0</td>\n",
              "      <td>0.0</td>\n",
              "      <td>0.0</td>\n",
              "      <td>0.0</td>\n",
              "      <td>0.0</td>\n",
              "      <td>0.0</td>\n",
              "      <td>0.0</td>\n",
              "      <td>...</td>\n",
              "      <td>0.0</td>\n",
              "      <td>0.0</td>\n",
              "      <td>0.0</td>\n",
              "      <td>0.0</td>\n",
              "      <td>0.0</td>\n",
              "      <td>0.0</td>\n",
              "      <td>0.0</td>\n",
              "      <td>0.0</td>\n",
              "      <td>0.0</td>\n",
              "      <td>0.0</td>\n",
              "    </tr>\n",
              "    <tr>\n",
              "      <th>1</th>\n",
              "      <td>-3.98</td>\n",
              "      <td>-2.0</td>\n",
              "      <td>0.0</td>\n",
              "      <td>0.0</td>\n",
              "      <td>0.0</td>\n",
              "      <td>0.0</td>\n",
              "      <td>0.0</td>\n",
              "      <td>0.0</td>\n",
              "      <td>0.0</td>\n",
              "      <td>0.0</td>\n",
              "      <td>...</td>\n",
              "      <td>0.0</td>\n",
              "      <td>0.0</td>\n",
              "      <td>0.0</td>\n",
              "      <td>0.0</td>\n",
              "      <td>0.0</td>\n",
              "      <td>0.0</td>\n",
              "      <td>0.0</td>\n",
              "      <td>0.0</td>\n",
              "      <td>0.0</td>\n",
              "      <td>0.0</td>\n",
              "    </tr>\n",
              "    <tr>\n",
              "      <th>2</th>\n",
              "      <td>-3.96</td>\n",
              "      <td>-2.0</td>\n",
              "      <td>0.0</td>\n",
              "      <td>0.0</td>\n",
              "      <td>0.0</td>\n",
              "      <td>0.0</td>\n",
              "      <td>0.0</td>\n",
              "      <td>0.0</td>\n",
              "      <td>0.0</td>\n",
              "      <td>0.0</td>\n",
              "      <td>...</td>\n",
              "      <td>0.0</td>\n",
              "      <td>0.0</td>\n",
              "      <td>0.0</td>\n",
              "      <td>0.0</td>\n",
              "      <td>0.0</td>\n",
              "      <td>0.0</td>\n",
              "      <td>0.0</td>\n",
              "      <td>0.0</td>\n",
              "      <td>0.0</td>\n",
              "      <td>0.0</td>\n",
              "    </tr>\n",
              "    <tr>\n",
              "      <th>3</th>\n",
              "      <td>-3.94</td>\n",
              "      <td>-2.0</td>\n",
              "      <td>0.0</td>\n",
              "      <td>0.0</td>\n",
              "      <td>0.0</td>\n",
              "      <td>0.0</td>\n",
              "      <td>0.0</td>\n",
              "      <td>0.0</td>\n",
              "      <td>0.0</td>\n",
              "      <td>0.0</td>\n",
              "      <td>...</td>\n",
              "      <td>0.0</td>\n",
              "      <td>0.0</td>\n",
              "      <td>0.0</td>\n",
              "      <td>0.0</td>\n",
              "      <td>0.0</td>\n",
              "      <td>0.0</td>\n",
              "      <td>0.0</td>\n",
              "      <td>0.0</td>\n",
              "      <td>0.0</td>\n",
              "      <td>0.0</td>\n",
              "    </tr>\n",
              "    <tr>\n",
              "      <th>4</th>\n",
              "      <td>-3.92</td>\n",
              "      <td>-2.0</td>\n",
              "      <td>0.0</td>\n",
              "      <td>0.0</td>\n",
              "      <td>0.0</td>\n",
              "      <td>0.0</td>\n",
              "      <td>0.0</td>\n",
              "      <td>0.0</td>\n",
              "      <td>0.0</td>\n",
              "      <td>0.0</td>\n",
              "      <td>...</td>\n",
              "      <td>0.0</td>\n",
              "      <td>0.0</td>\n",
              "      <td>0.0</td>\n",
              "      <td>0.0</td>\n",
              "      <td>0.0</td>\n",
              "      <td>0.0</td>\n",
              "      <td>0.0</td>\n",
              "      <td>0.0</td>\n",
              "      <td>0.0</td>\n",
              "      <td>0.0</td>\n",
              "    </tr>\n",
              "  </tbody>\n",
              "</table>\n",
              "<p>5 rows × 362 columns</p>\n",
              "</div>"
            ],
            "text/plain": [
              "     px   py  angle -179  angle -178  angle -177  angle -176  angle -175  \\\n",
              "0 -4.00 -2.0         0.0         0.0         0.0         0.0         0.0   \n",
              "1 -3.98 -2.0         0.0         0.0         0.0         0.0         0.0   \n",
              "2 -3.96 -2.0         0.0         0.0         0.0         0.0         0.0   \n",
              "3 -3.94 -2.0         0.0         0.0         0.0         0.0         0.0   \n",
              "4 -3.92 -2.0         0.0         0.0         0.0         0.0         0.0   \n",
              "\n",
              "   angle -174  angle -173  angle -172  ...  angle 171  angle 172  angle 173  \\\n",
              "0         0.0         0.0         0.0  ...        0.0        0.0        0.0   \n",
              "1         0.0         0.0         0.0  ...        0.0        0.0        0.0   \n",
              "2         0.0         0.0         0.0  ...        0.0        0.0        0.0   \n",
              "3         0.0         0.0         0.0  ...        0.0        0.0        0.0   \n",
              "4         0.0         0.0         0.0  ...        0.0        0.0        0.0   \n",
              "\n",
              "   angle 174  angle 175  angle 176  angle 177  angle 178  angle 179  angle 180  \n",
              "0        0.0        0.0        0.0        0.0        0.0        0.0        0.0  \n",
              "1        0.0        0.0        0.0        0.0        0.0        0.0        0.0  \n",
              "2        0.0        0.0        0.0        0.0        0.0        0.0        0.0  \n",
              "3        0.0        0.0        0.0        0.0        0.0        0.0        0.0  \n",
              "4        0.0        0.0        0.0        0.0        0.0        0.0        0.0  \n",
              "\n",
              "[5 rows x 362 columns]"
            ]
          },
          "execution_count": 1,
          "metadata": {},
          "output_type": "execute_result"
        }
      ],
      "source": [
        "import pandas as pd\n",
        "df_test2obs = pd.read_csv('data_test2obs.csv', index_col=0)\n",
        "df_test2obs.head(5)\n",
        "#df\n",
        "\n",
        "# By convention, zero values mean no range measurements.\n",
        "# The units are:\n",
        "# [m] for px and py (position of the robot)\n",
        "# [m] for the LIDAR ranges"
      ]
    },
    {
      "attachments": {},
      "cell_type": "markdown",
      "metadata": {
        "id": "N1sxHok-cHpu"
      },
      "source": [
        "Note that the LIDAR measurements consist of range (distance) from the robot to a possible obstacle for each degree of direction, that is, \n",
        "$$\n",
        "r_t = \\{r_\\beta + \\eta_r : \\beta=-179^o, -178^o, \\ldots, 0^o, \\ldots, 180^o\\}\n",
        "$$\n",
        "where $\\eta_r$ is assumed to be Gaussian noise. If there is no obstacle within the direction of the laser range or if it is far away, that is, if the distance is greater than $5\\,m$, by convention the range measurement is set to zero. Moreover, with a small probability, the range measurements could be corrupted with *outliers*.\n",
        "\n",
        "The next figure shows $r_t$ as a function of the angle $\\beta$ taken at time $t=1.0\\,s$.\n"
      ]
    },
    {
      "cell_type": "code",
      "execution_count": 2,
      "metadata": {
        "colab": {
          "base_uri": "https://localhost:8080/",
          "height": 1000
        },
        "id": "_iqKHjCpd601",
        "outputId": "6b67d238-bc10-49f0-e208-2e0c16db03b6"
      },
      "outputs": [
        {
          "data": {
            "image/png": "[encoded data removed]",
            "text/plain": [
              "<Figure size 640x480 with 1 Axes>"
            ]
          },
          "metadata": {},
          "output_type": "display_data"
        },
        {
          "data": {
            "image/png": "[encoded data removed]",
            "text/plain": [
              "<Figure size 600x600 with 1 Axes>"
            ]
          },
          "metadata": {},
          "output_type": "display_data"
        }
      ],
      "source": [
        "import numpy as np\n",
        "from numpy import * \n",
        "import matplotlib.pyplot as plt\n",
        "\n",
        "Lidar_range = df_test2obs.iloc[:, np.arange(2,362,1)].values\n",
        "px = df_test2obs[\"px\"].values\n",
        "py = df_test2obs[\"py\"].values\n",
        "\n",
        "t=1*10 #1sec times number of samples/second\n",
        "angle = np.linspace(-179, 180, num=360)\n",
        "\n",
        "plt.figure()\n",
        "plt.scatter(angle, Lidar_range[t], color='b')\n",
        "plt.title('Lidar measurements')\n",
        "plt.ylabel('r [m]')\n",
        "plt.xlabel('$beta$ [degree]')\n",
        "plt.grid();\n",
        "plt.show()\n",
        "\n",
        "#Build the cloud points in 2D plan\n",
        "x_o, y_o = [], []\n",
        "for i in range(len(Lidar_range[t])):\n",
        "  if Lidar_range[t][i] > 0:\n",
        "    x_o.append(px[t]+Lidar_range[t][i]*np.cos(angle[i]/180*np.pi))\n",
        "    y_o.append(py[t]+Lidar_range[t][i]*np.sin(angle[i]/180*np.pi))\n",
        "\n",
        "fig, ax = plt.subplots(figsize=(6,6))\n",
        "ax.axis('equal')\n",
        "xdim, ydim = 5, 5\n",
        "plt.xlim(-xdim-1,xdim+1)\n",
        "plt.ylim(-ydim-1,ydim+1)\n",
        "plt.plot(px[t], py[t], 'g.', ms=20)  #position of the robot\n",
        "plt.grid()\n",
        "\n",
        "plt.scatter(x_o, y_o, color='b')\n",
        "plt.title('2D Map');\n",
        "plt.show()"
      ]
    },
    {
      "attachments": {},
      "cell_type": "markdown",
      "metadata": {
        "id": "kZP8GD8dgyAn"
      },
      "source": [
        "Note that it may be possible to have more than one object in the range of the LIDAR. \\\\\n",
        "Here goes an example when $t=32\\,s$:\n"
      ]
    },
    {
      "cell_type": "code",
      "execution_count": 3,
      "metadata": {
        "colab": {
          "base_uri": "https://localhost:8080/",
          "height": 1000
        },
        "id": "_gSUNbkfgwye",
        "outputId": "9ff63679-a702-40e1-bb42-ec54475b4ad4"
      },
      "outputs": [
        {
          "data": {
            "image/png": "[encoded data removed]",
            "text/plain": [
              "<Figure size 640x480 with 1 Axes>"
            ]
          },
          "metadata": {},
          "output_type": "display_data"
        },
        {
          "data": {
            "image/png": "[encoded data removed]",
            "text/plain": [
              "<Figure size 600x600 with 1 Axes>"
            ]
          },
          "metadata": {},
          "output_type": "display_data"
        }
      ],
      "source": [
        "t=32*10 #5sec times number of samples/second\n",
        "angle = np.linspace(-179, 180, num=360)\n",
        "\n",
        "plt.figure()\n",
        "plt.scatter(angle, Lidar_range[t], color='b')\n",
        "plt.title('Lidar measurements')\n",
        "plt.ylabel('r [m]')\n",
        "plt.xlabel('$beta$ [degree]')\n",
        "plt.grid();\n",
        "plt.show()\n",
        "\n",
        "#Build the cloud points in 2D plan\n",
        "x_o, y_o = [], []\n",
        "for i in range(len(Lidar_range[t])):\n",
        "  if Lidar_range[t][i] > 0:\n",
        "    x_o.append(px[t]+Lidar_range[t][i]*np.cos(angle[i]/180*np.pi))\n",
        "    y_o.append(py[t]+Lidar_range[t][i]*np.sin(angle[i]/180*np.pi))\n",
        "\n",
        "fig, ax = plt.subplots(figsize=(6,6))\n",
        "ax.axis('equal')\n",
        "xdim, ydim = 5, 5\n",
        "plt.xlim(-xdim-1,xdim+1)\n",
        "plt.ylim(-ydim-1,ydim+1)\n",
        "plt.plot(px[t], py[t], 'g.', ms=20)  #position of the robot\n",
        "plt.grid()\n",
        "\n",
        "plt.scatter(x_o, y_o, color='b')\n",
        "plt.title('2D Map');\n",
        "plt.show()"
      ]
    },
    {
      "attachments": {},
      "cell_type": "markdown",
      "metadata": {
        "id": "Vdg7Ov1BikvM"
      },
      "source": [
        "# **Part 1: Classification of one object**\n",
        "\n",
        "At this point, the goal is to classify only one object that could be a square or a circle at each LIDAR snapshot. To this end, it was performed a set of 4 experiments for each obstacle (alone) where in each experiment the robot travelled during $40\\,s$ with a constant speed and constant direction (horizontal line segment from left to right) from the initial position $(p_x, p_y) = (-4, \\bar y)$ to the final position $(p_x, p_y) = (4, \\bar y)$, where $\\bar y = -4, -3, -2, -1\\, m$ \\\\\n",
        "The obstacle (circle and square) were placed at the center of the origin $(0,0)$. \\\\\n",
        "All the experiments were combined in a unique dataset and then randomly split into two datasets: the trainning data set (70%) and the testing data set (30%). The content of each data set are displayed next."
      ]
    },
    {
      "attachments": {},
      "cell_type": "markdown",
      "metadata": {
        "id": "NU0oNro309L1"
      },
      "source": [
        "Note that there is an extra column (the label column) that indicates if the obstacle is a **circle (label 1)** or a **square (label 2)**."
      ]
    },
    {
      "attachments": {},
      "cell_type": "markdown",
      "metadata": {
        "id": "gmmc7Nop1nDv"
      },
      "source": [
        "**1.1**\n",
        "Implement a **$k$-nearest neighbor ($k$-NN)** classifier that receives the parameter $k$, the sample to classify (that are the range measurements at one snapshot), and a set of labeled training data. \\\\\n",
        "Do not use sklearn or similar packages (use the results of notebook #7)."
      ]
    },
    {
      "cell_type": "code",
      "execution_count": null,
      "metadata": {},
      "outputs": [],
      "source": [
        "# Import used packages\n",
        "import numpy as np\n",
        "import pandas as pd"
      ]
    },
    {
      "cell_type": "code",
      "execution_count": 16,
      "metadata": {
        "id": "2MUv5V2PymWQ"
      },
      "outputs": [],
      "source": [
        "# Euclidean distance and k-NN classifier functions\n",
        "def EuclideanDistance(test, train):\n",
        "    x = len(test[0])\n",
        "    train_length = len(train)\n",
        "    distances = []\n",
        "    for j in range(train_length):\n",
        "        obs = len(train[j][0])\n",
        "        distance = 0\n",
        "        for i in range(x):\n",
        "            for o in range(obs):\n",
        "                distance += np.sqrt((test[0][i] - train[j][0][o]) ** 2 + (test[1][i] - train[j][1][o]) ** 2)\n",
        "        distances.append(distance)\n",
        "    return distances\n",
        "\n",
        "def KNNclassifier(k, x, data, classes):\n",
        "    dist = EuclideanDistance(x, data)\n",
        "    ind = np.argsort(np.array(dist), axis=0)\n",
        "    classes_sorted = classes[ind]\n",
        "    c1 = 0\n",
        "    c2 = 0\n",
        "    for i in range(k):\n",
        "        if classes_sorted[i] == 1:\n",
        "            c1 += 1\n",
        "        else:\n",
        "            c2 += 1\n",
        "    if c2 > c1:\n",
        "        return 2\n",
        "    else:\n",
        "        return 1"
      ]
    },
    {
      "attachments": {},
      "cell_type": "markdown",
      "metadata": {
        "id": "mTvlooWR5Xxk"
      },
      "source": [
        "**1.2**\n",
        "Test the $k$-NN classifier for the `data_train.csv` set and for the `data_test.csv` set and obtain the respectively accuracy for $k=1,3,5,7,9$ \\\\\n",
        "Note that accuracy is defined as \n",
        "$$acc = \\frac{\\#\\text{correct predictions}}{\\#\\text{all predictions}} = \\frac{TP+TN}{TP+TN+FP+FN}$$\n",
        "\n",
        "where TP are the true positives, TN true negatives, FP false positives, and FN the fale negatives. \n"
      ]
    },
    {
      "cell_type": "code",
      "execution_count": 86,
      "metadata": {},
      "outputs": [],
      "source": [
        "# Create list of all cloud points in 2D plan from test and train datasets\n",
        "df_train = pd.read_csv('data_train.csv', index_col=0)\n",
        "df_test = pd.read_csv('data_test.csv', index_col=0)\n",
        "\n",
        "lidar_range_train = df_train.values[:, 2:362]\n",
        "px_train = df_train[\"px\"].values\n",
        "py_train = df_train[\"py\"].values\n",
        "t_range_train = range(len(df_train))\n",
        "angle = np.linspace(-179, 180, num=360)\n",
        "x_y_train = []\n",
        "for t in t_range_train:\n",
        "    x_train, y_train = [], []\n",
        "    for i in range(0, lidar_range_train.shape[1]):\n",
        "        if lidar_range_train[t][i] > 0:\n",
        "            x_train.append(px_train[t]+lidar_range_train[t][i]*np.cos(angle[i]/180*np.pi))\n",
        "            y_train.append(py_train[t]+lidar_range_train[t][i]*np.sin(angle[i]/180*np.pi))\n",
        "    x_y_train.append([x_train, y_train])\n",
        "\n",
        "lidar_range_test = df_test.values[:, 2:362]\n",
        "px_test = df_test[\"px\"].values\n",
        "py_test = df_test[\"py\"].values\n",
        "t_range_test = range(len(df_test))\n",
        "angle = np.linspace(-179, 180, num=360)\n",
        "x_y_test = []\n",
        "for t in t_range_test:\n",
        "    x_test, y_test = [], []\n",
        "    for i in range(0, lidar_range_test.shape[1]):\n",
        "        if lidar_range_test[t][i] > 0:\n",
        "            x_test.append(px_test[t]+lidar_range_test[t][i]*np.cos(angle[i]/180*np.pi))\n",
        "            y_test.append(py_test[t]+lidar_range_test[t][i]*np.sin(angle[i]/180*np.pi))\n",
        "    x_y_test.append([x_test, y_test])"
      ]
    },
    {
      "cell_type": "code",
      "execution_count": 87,
      "metadata": {},
      "outputs": [
        {
          "ename": "AttributeError",
          "evalue": "'list' object has no attribute 'shape'",
          "output_type": "error",
          "traceback": [
            "\u001b[0;31m---------------------------------------------------------------------------\u001b[0m",
            "\u001b[0;31mAttributeError\u001b[0m                            Traceback (most recent call last)",
            "Cell \u001b[0;32mIn[87], line 5\u001b[0m\n\u001b[1;32m      3\u001b[0m k \u001b[39m=\u001b[39m [\u001b[39m1\u001b[39m, \u001b[39m3\u001b[39m, \u001b[39m5\u001b[39m, \u001b[39m7\u001b[39m, \u001b[39m9\u001b[39m]\n\u001b[1;32m      4\u001b[0m \u001b[39mfor\u001b[39;00m i \u001b[39min\u001b[39;00m \u001b[39mrange\u001b[39m(\u001b[39mlen\u001b[39m(x_y_test)):\n\u001b[0;32m----> 5\u001b[0m     classification\u001b[39m.\u001b[39mappend(KNNclassifier(k[\u001b[39m0\u001b[39;49m], x_y_test[i], x_y_train))\n",
            "Cell \u001b[0;32mIn[16], line 10\u001b[0m, in \u001b[0;36mKNNclassifier\u001b[0;34m(k, x, data)\u001b[0m\n\u001b[1;32m      8\u001b[0m \u001b[39mdef\u001b[39;00m \u001b[39mKNNclassifier\u001b[39m(k, x, data):\n\u001b[1;32m      9\u001b[0m     \u001b[39m# npoints = data.shape[0]\u001b[39;00m\n\u001b[0;32m---> 10\u001b[0m     dist \u001b[39m=\u001b[39m EuclideanDistance(x, data)\n\u001b[1;32m     11\u001b[0m     ind \u001b[39m=\u001b[39m np\u001b[39m.\u001b[39margsort(dist, axis\u001b[39m=\u001b[39m\u001b[39m0\u001b[39m)\n\u001b[1;32m     12\u001b[0m     classes \u001b[39m=\u001b[39m data[:,\u001b[39m-\u001b[39m\u001b[39m1\u001b[39m]\n",
            "Cell \u001b[0;32mIn[16], line 2\u001b[0m, in \u001b[0;36mEuclideanDistance\u001b[0;34m(x, data)\u001b[0m\n\u001b[1;32m      1\u001b[0m \u001b[39mdef\u001b[39;00m \u001b[39mEuclideanDistance\u001b[39m(x, data):\n\u001b[0;32m----> 2\u001b[0m     npoints \u001b[39m=\u001b[39m data\u001b[39m.\u001b[39;49mshape[\u001b[39m0\u001b[39m]\n\u001b[1;32m      3\u001b[0m     distances \u001b[39m=\u001b[39m np\u001b[39m.\u001b[39mzeros(npoints)\n\u001b[1;32m      4\u001b[0m     \u001b[39mfor\u001b[39;00m i \u001b[39min\u001b[39;00m \u001b[39mrange\u001b[39m(npoints):\n",
            "\u001b[0;31mAttributeError\u001b[0m: 'list' object has no attribute 'shape'"
          ]
        }
      ],
      "source": [
        "# Classify test dataset using train dataset\n",
        "k_list = [1, 3, 5, 7, 9]\n",
        "classes_train = df_train.values[:,-1]\n",
        "classes_test = df_test.values[:, -1]\n",
        "classifications = np.zeros(shape=(len(x_y_test), len(k_list)))\n",
        "for k in range(len(k_list)):\n",
        "    for i in range(len(x_y_test)):\n",
        "        # classifications.append(KNNclassifier(k, x_y_test[i], x_y_train, classes_train))\n",
        "        classifications[i, k] = KNNclassifier(k, x_y_test[i], x_y_train, classes_train)\n",
        "        print(\"classification \", i, \" for k = \", k_list[k], \" = \", classifications[i][k])\n",
        "print(classifications)"
      ]
    },
    {
      "cell_type": "code",
      "execution_count": null,
      "metadata": {},
      "outputs": [],
      "source": [
        "# Calculate accuracy of calssification for each k\n",
        "accuracy = dict()\n",
        "for k in range(len(k_list)):\n",
        "    accuracy[k_list[k]] = sum(classifications[:,k] == classes_test)/len(classes_test)"
      ]
    },
    {
      "attachments": {},
      "cell_type": "markdown",
      "metadata": {
        "id": "QJDDVMcc8Ngj"
      },
      "source": [
        "**1.3**\n",
        "Implement an Artificial Neural Network (ANN) of the type multi-layer perceptron (MLP) with\n",
        "1. an input layer that receives the first 10 nonzero range measurements (for each snapshot);  \n",
        "2. one hidden layer with 5 neurons with activation functions of the type ReLU (rectified linear unit);\n",
        "3. an output layer with 1 neuron with a sigmoid activation function; \n",
        "\n",
        "4. a loss function of the type mean square error.\n",
        "\n",
        "Train the ANN using the `data_train.csv` set. \\\\\n",
        "**Do not use** PyTorch, TensorFlow or similar packages (check notebook #8). \\\\\n",
        "**Tip:** It is important to shuffle the training data. You may get better results with non constant learning rate. A final loss below 0.05 is good!\n"
      ]
    },
    {
      "cell_type": "code",
      "execution_count": null,
      "metadata": {
        "id": "bPoyQkF58iRC"
      },
      "outputs": [],
      "source": [
        "# # To complete\n",
        "\n",
        "# import numpy as np\n",
        "# np.random.seed(42)\n",
        "\n",
        "# N_INPUTS = 10  #Number of inputs\n",
        "\n",
        "# def mse_loss(y_true, y_pred):\n",
        "#   return ((y_true - y_pred) ** 2).mean()\n",
        "\n",
        "# # def sigmoid(x):\n",
        "# # ...\n",
        "\n",
        "# # def deriv_sigmoid(x):\n",
        "# # ...\n",
        "\n",
        "# # # ReLu activation function: \n",
        "# # def relu(x):\n",
        "# # ...\n",
        "\n",
        "# # # Derivative of ReLu\n",
        "# # def deriv_relu(x):\n",
        "# # ...\n",
        "\n",
        "# class NeuralNetwork:\n",
        "#   '''\n",
        "#   Structure of the neural network:\n",
        "#     - N_INPUTS inputs\n",
        "#     - a hidden layer with 5 neurons (h1, h2, h3, h4, h5)\n",
        "#     - an output layer with 1 neuron (o1)\n",
        "#   '''\n",
        "#   def __init__(self):\n",
        "#     # Biases\n",
        "#     # self.b1 = ...\n",
        "#     # ...\n",
        "#     # self.bo = np.random.random()\n",
        "\n",
        "#     # # Weights\n",
        "#     # self.w1o, self.w2o, self.w3o, self.w4o, self.w5o = np.random.random(5)\n",
        "#     # self.wi1 = np.random.random(N_INPUTS)\n",
        "#     # ...\n",
        "\n",
        "\n",
        "#   def feedforward(self, x):\n",
        "#     '''\n",
        "#     - x is a numpy array with N_INPUTS elements.\n",
        "#     '''\n",
        "#     # # Hidden layer\n",
        "#     # self.sum_h1 = np.dot(self.wi1, x) + self.b1\n",
        "#     # ...\n",
        "#     # self.h1 = relu(self.sum_h1)\n",
        "#     # ...\n",
        " \n",
        "#     # # Output layer\n",
        "#     # self.sum_o1 = self.w1o*self.h1 + self.w2o*self.h2 + self.w3o*self.h3 + self.w4o*self.h4 + self.w5o*self.h5 + self.bo\n",
        "#     # self.o1 = sigmoid(self.sum_o1)\n",
        "#     # return self.o1\n",
        "\n",
        "  \n",
        "#   def train(self, data, y_trues, learn_rate = 0.1, epochs = 500):\n",
        "#     '''\n",
        "#     - data is a (n x N_INPUTS) numpy array, n = # of samples in the dataset.\n",
        "#     - y_trues is a numpy array with n elements.\n",
        "#       Elements in y_true correspond to those in data.\n",
        "#     '''\n",
        "#     loss_prev = 10000  #loss_prev is the loss of the previous iteration\n",
        "#     for epoch in range(epochs):\n",
        "#       for x, y_true in zip(data, y_trues):\n",
        "\n",
        "#         # *************************************************\n",
        "#         # 1. Feedforward Step\n",
        "#         y_pred = self.feedforward(x)\n",
        "\n",
        "#         # *************************************************\n",
        "#         # 2. Backpropagation Step\n",
        "\n",
        "#         # Partial derivatives.\n",
        "#         d_L_d_ypred = -2 * (y_true - y_pred)\n",
        "\n",
        "#         # Output Layer:  Neuron o1\n",
        "#         # d_ypred_d_w1o = self.h1 * deriv_sigmoid(self.sum_o1)\n",
        "#         # ...\n",
        "#         # d_ypred_d_bo = deriv_sigmoid(self.sum_o1)\n",
        "\n",
        "#         # d_ypred_d_h1 = self.w1o * deriv_sigmoid(self.sum_o1)\n",
        "#         # ...\n",
        "\n",
        "#         # Hidden Layer: Neuron h1\n",
        "#         # d_h1_d_wi1 = ...\n",
        "#         # d_h1_d_b1 = ...\n",
        "\n",
        "#         # Hidden Layer: Neuron h1\n",
        "#         # d_h2_d_wi2 = ...\n",
        "#         # d_h2_d_b2 = ...\n",
        "\n",
        "#         # Hidden Layer: Neuron h3\n",
        "\n",
        "#         # Hidden Layer: Neuron h4\n",
        "\n",
        "#         # Hidden Layer: Neuron h5\n",
        "\n",
        "#         # *************************************************\n",
        "#         # 3. Gradient Descent\n",
        "#         # Output Layer:  Neuron o1\n",
        "#         # self.w1o -= learn_rate * d_L_d_ypred * d_ypred_d_w1o\n",
        "#         # ...\n",
        "#         # self.bo -= learn_rate * d_L_d_ypred * d_ypred_d_bo\n",
        "\n",
        "#         # Hidden Layer: Neuron h1\n",
        "#         # self.wi1 -= ...\n",
        "#         # self.b1 -= ...\n",
        "\n",
        "#         # Hidden Layer: Neuron h2\n",
        "#         # self.wi2 -= ...\n",
        "#         # self.b2 -= ...\n",
        "\n",
        "#         # Hidden Layer: Neuron h3\n",
        "\n",
        "#         # Hidden Layer: Neuron h4\n",
        "\n",
        "#         # Hidden Layer: Neuron h5\n",
        "\n",
        "#       # *************************************************\n",
        "#       # 4. Performance assessment (per epoch)\n",
        "#       if epoch % 5 == 0:\n",
        "#         y_preds = np.apply_along_axis(self.feedforward, 1, data)\n",
        "#         loss = mse_loss(y_trues, y_preds)\n",
        "#         print(\"Epoch %d  --> Loss: %.4f\" % (epoch, loss))\n",
        "# # Uncomment this part to enable a nonconstant learning rate \n",
        "# #         if loss > loss_prev:  #if loss did not decrease, let's decrease the learn_rate\n",
        "# #           if learn_rate > 0.002:\n",
        "# #             learn_rate = learn_rate*.9  #decrease 90% of the previous value\n",
        "# #           print(\"I'm at epoch\", epoch, \"with new learn_rate: \", learn_rate)\n",
        "# #         loss_prev = loss\n",
        "\n",
        "\n",
        "\n",
        "# # Create the ANN\n",
        "# model = NeuralNetwork()\n",
        "\n",
        "# # # Build the Trainingset (with the first nonzero N_INPUTS ranges)\n",
        "# # trainingset_X = np.zeros([len(Y_train), N_INPUTS])\n",
        "# # for t in range(len(Y_train)):\n",
        "# #   j=0\n",
        "# #   for i in range(360):\n",
        "# #     if X_train[t][i] > 0:\n",
        "# #       if j < N_INPUTS:\n",
        "# #         trainingset_X[t][j] = X_train[t][i]\n",
        "# #         j +=1\n",
        "\n",
        "# # # Trainingset: here the labels are 0 or 1\n",
        "# # trainingset_Y = Y_train-1\n",
        "\n",
        "# # #Shuffling the set...\n",
        "# # from sklearn.utils import shuffle\n",
        "# # trainingset_X, trainingset_Y = shuffle(trainingset_X, trainingset_Y, random_state=42)\n",
        "\n",
        "# # # Train the ANN \n",
        "# # model.train(trainingset_X, trainingset_Y, learn_rate = 0.1, epochs = 1000)"
      ]
    },
    {
      "attachments": {},
      "cell_type": "markdown",
      "metadata": {
        "id": "Ao4Lj_rX8qPa"
      },
      "source": [
        "**1.4**\n",
        "Test the ANN classifier for the `data_train.csv` set and for the `data_test.csv` set and obtain the respectively accuracy. Write in a brief sentence of the main conclusions about the classifiers (k-NN and ANN) until this point."
      ]
    },
    {
      "attachments": {},
      "cell_type": "markdown",
      "metadata": {
        "id": "Jgvij0Qrfhqy"
      },
      "source": []
    },
    {
      "cell_type": "code",
      "execution_count": null,
      "metadata": {
        "id": "XhqNc6Tp84g3"
      },
      "outputs": [],
      "source": [
        "# To complete\n",
        "\n",
        "# #Evaluation with the Training set\n",
        "# classification = []\n",
        "# for t in range(len(Y_train)):\n",
        "#   classification.append( model.feedforward(...) )\n",
        "# classification = np.array(classification)\n",
        "# error_clas = 0\n",
        "# for t in range(len(classification)):\n",
        "#   if (classification[t] >= 0.5) and ...:\n",
        "# ...\n",
        "#   if (classification[t] < 0.5) and ...:\n",
        "# ...\n",
        "# print(\"Number of misclassified samples in the training data: \", error_clas, \"in\", len(Y_test))\n",
        "# acc = ...\n",
        "# print(f\"Accuracy of the model: {100.0*acc:4.2f}%\")\n",
        "\n",
        "\n",
        "# # Evaluation with Test_set\n",
        "# test_set_X = np.zeros([len(Y_test), N_INPUTS])\n",
        "# ..."
      ]
    },
    {
      "attachments": {},
      "cell_type": "markdown",
      "metadata": {
        "id": "gsxQIvoS9dv8"
      },
      "source": [
        "# **Part 2: Classification of two objects**\n",
        "\n",
        "We would like now to use the previous ANN classifier to the data in `data_test2obs.csv` that may have two objects at the same snapshot. The idea is to before send the range measurements to the classifier, apply first a k-means at each snapshot to separate the data into two sub-sets such that each sub-set only contains data of one object. Then, send each subset of data to the ANN classifier."
      ]
    },
    {
      "attachments": {},
      "cell_type": "markdown",
      "metadata": {
        "id": "P72j7-33AnvC"
      },
      "source": [
        "**2.1**\n",
        "Implement the k-means algorithm and test it for two snapshots **converted to the 2D map** (that is, the input data for the k-means is the 2D map) of the dataset `data_test2obs.csv` for \n",
        "1. $t=1\\,s$ (which has only one object) and \n",
        "2. for $t=32\\,s$ (which has 2 objects). \n",
        "\n",
        "What can you conclude? \\\\\n",
        "Do not use sklearn or similar packages (use the results of notebook #10).\n"
      ]
    },
    {
      "attachments": {},
      "cell_type": "markdown",
      "metadata": {
        "id": "yiTqdH83f_PV"
      },
      "source": []
    },
    {
      "cell_type": "code",
      "execution_count": null,
      "metadata": {
        "id": "_o6vbfRUBb7U"
      },
      "outputs": [],
      "source": [
        "# To complete\n",
        "\n",
        "# def kmeans_func(X_func, K_func, show_plot=0, ini_method=0):\n",
        "#   '''\n",
        "#     X_func are sample points; \n",
        "#     K_func is the number of clusters;\n",
        "#     showplot 0/1 - not / show centroid evolution over iterations;\n",
        "#     ini_method 0/1 - ini centroids 0=> with random within data bounderies or 1=>from the initial points (risky!)\n",
        "#   '''\n",
        "#   cluster = np.zeros(X_func.shape[0],dtype=int)\n",
        "#   centr_ini = []\n",
        "#   if ini_method:  # 1 is points, 0 is random\n",
        "#     # Initial centroids are sample points (risky!)\n",
        "#     for i in range(K_func):\n",
        "#       centr_ini.append(X_func[i])\n",
        "#   else:\n",
        "#     # Non absurd Random Initial Centroids\n",
        "#     max0 = max(X_func[:,0]);\n",
        "#     min0 = min(X_func[:,0]);\n",
        "#     max1 = max(X_func[:,1]);\n",
        "#     min1 = min(X_func[:,1]);\n",
        "\n",
        "#     for i in range(K_func):\n",
        "#       centr_ini.append([random.uniform(min0,max0),random.uniform(min1,max1)])\n",
        "\n",
        "#   iter = 0\n",
        "#   diff = 1\n",
        "#   centroids = centr_ini\n",
        "#   centr_list = [centroids]\n",
        "\n",
        "# # ...\n",
        "#   return centroids, cluster\n",
        "\n",
        "\n",
        "# #Build the cloud points in 2D map\n",
        "# x_o, y_o = [], []\n",
        "\n",
        "# t=1*10 \n",
        "# for i in range(len(Lidar_range[t])):\n",
        "#   if Lidar_range[t][i] > 0:\n",
        "#     x_o.append(px[t]+Lidar_range[t][i]*np.cos(angle[i]/180*np.pi))\n",
        "#     y_o.append(py[t]+Lidar_range[t][i]*np.sin(angle[i]/180*np.pi))\n",
        "\n",
        "# X = np.array([x_o, y_o]).T\n",
        "# centr, clust = kmeans_func(X, 2, show_plot=1, ini_method=0)\n",
        "# print(clust)\n",
        "# ..."
      ]
    },
    {
      "attachments": {},
      "cell_type": "markdown",
      "metadata": {
        "id": "mtEmBuO3Bcet"
      },
      "source": [
        "**2.2**\n",
        "Using the previous results, \n",
        "1. implement a method to automatically identify for each snapshot if it has 1 or 2 objects;\n",
        "2. build a new test set with all the data in `data_test2obs.csv`, but now the new test set only has 1 object in each snapshot (and therefore this data set has more lines);\n",
        "3. test this new data set using the ANN classifier.\n",
        "\n",
        "Plot the position of the robot and the classified objects for some snapshots. What are the main conclusions?"
      ]
    },
    {
      "attachments": {},
      "cell_type": "markdown",
      "metadata": {
        "id": "aId0NlhggK3Z"
      },
      "source": []
    },
    {
      "cell_type": "code",
      "execution_count": null,
      "metadata": {
        "id": "BVVGVncJpBrO"
      },
      "outputs": [],
      "source": [
        "# # To complete\n",
        "\n",
        "# Threshold = ...  # to decide if k=1 or k=2,\n",
        "\n",
        "# Lidar_range = df_test2obs.iloc[:, np.arange(2,362,1)].values\n",
        "# px = df_test2obs[\"px\"].values\n",
        "# py = df_test2obs[\"py\"].values\n",
        "\n",
        "# def SSE(X, centroids, cluster): \n",
        "#   '''\n",
        "#     returns the Sum of Squared Error\n",
        "#     X are the 2D points\n",
        "#     centroids are the cluster centers\n",
        "#     cluster is the cluster that each data point belongs to\n",
        "#   '''\n",
        "#   sum = 0\n",
        "#   for i, val in enumerate(X):\n",
        "#     sum += np.sqrt((centroids[cluster[i], 0]-val[0])**2 +(centroids[cluster[i], 1]-val[1])**2)  ####\n",
        "#   return sum\n",
        "\n",
        "# # Building the data set for ANN testing using k-means to split objects \n",
        "\n",
        "# test_set_X = np.array([])\n",
        "# ...\n",
        "\n",
        "#   X = np.array([x_o, y_o]).T\n",
        "#   cost_list = []\n",
        "#   k_range = range(1, 3)\n",
        "#   for k in k_range:\n",
        "#     centr, clust = kmeans_func(X, k, show_plot=0, ini_method=0) \n",
        "#     # Calculate SSE\n",
        "#     cost = SSE(X, centr, clust)\n",
        "#     cost_list.append(cost)\n",
        "#   #Let's now decide if this snapshot has 1 or 2 obstacles\n",
        "#   if ...\n",
        "#     #2 objects\n",
        "#     X_feature1, X_feature2 = np.zeros([N_INPUTS]), np.zeros([N_INPUTS])\n",
        "#     j1,j2=0,0\n",
        "#     for i in range(len(x_o)):\n",
        "#       if j1 < N_INPUTS:\n",
        "#         if clust[i] == 0:\n",
        "#           X_feature1[j1]=np.sqrt((x_o[i]-px[t])**2 + (y_o[i]-py[t])**2)\n",
        "#           j1=j1+1\n",
        "#       if j2 < N_INPUTS:\n",
        "#         if clust[i] == 1:\n",
        "#           X_feature2[j2]=np.sqrt((x_o[i]-px[t])**2 + (y_o[i]-py[t])**2)\n",
        "#           j2=j2+1\n",
        "#     if len(test_set_X) == 0:\n",
        "#       test_set_X = np.array([X_feature1, X_feature2])\n",
        "#     else:\n",
        "#       test_set_X = np.concatenate((test_set_X,np.array([X_feature1, X_feature2])))\n",
        "#   else: #only one object\n",
        "#     X_feature1 = np.zeros([N_INPUTS])\n",
        "#     j1=0\n",
        "#     for i in range(len(x_o)):\n",
        "#       if j1 < N_INPUTS:\n",
        "#         if clust[i] == 0:\n",
        "#           X_feature1[j1]=np.sqrt((x_o[i]-px[t])**2 + (y_o[i]-py[t])**2)\n",
        "#           j1=j1+1\n",
        "#     if len(test_set_X) == 0:\n",
        "#       test_set_X = np.array([X_feature1])\n",
        "#     else:\n",
        "#       test_set_X = np.concatenate((test_set_X,np.array([X_feature1])))\n",
        "\n",
        "\n",
        "# ..."
      ]
    },
    {
      "attachments": {},
      "cell_type": "markdown",
      "metadata": {
        "id": "ihGr9Gv1CFlL"
      },
      "source": [
        "**2.3 (Extra)** \n",
        "Using now PyTorch or TensorFlow (or other similar package), implement a better ANN (meaning with a better accuracy) and test it.\n",
        "\n",
        "**Note:** This question is optional. If you solve it, you get extra 15 points (in 100)."
      ]
    },
    {
      "cell_type": "code",
      "execution_count": null,
      "metadata": {
        "id": "oYCM6KsgCEpT"
      },
      "outputs": [],
      "source": [
        "# To complete"
      ]
    }
  ],
  "metadata": {
    "colab": {
      "provenance": []
    },
    "kernelspec": {
      "display_name": "Python 3",
      "language": "python",
      "name": "python3"
    },
    "language_info": {
      "codemirror_mode": {
        "name": "ipython",
        "version": 3
      },
      "file_extension": ".py",
      "mimetype": "text/x-python",
      "name": "python",
      "nbconvert_exporter": "python",
      "pygments_lexer": "ipython3",
      "version": "3.10.6"
    }
  },
  "nbformat": 4,
  "nbformat_minor": 0
}
